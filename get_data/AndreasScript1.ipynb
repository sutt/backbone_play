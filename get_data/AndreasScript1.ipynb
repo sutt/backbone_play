{
 "metadata": {
  "name": ""
 },
 "nbformat": 3,
 "nbformat_minor": 0,
 "worksheets": [
  {
   "cells": [
    {
     "cell_type": "code",
     "collapsed": false,
     "input": [
      "#Initialize\n",
      "\n",
      "from numpy import *\n",
      "from pandas import *\n",
      "import urllib\n",
      "import matplotlib\n",
      "\n",
      "print 'hello world'\n",
      "#from scipy.signal import argrelextrema\n"
     ],
     "language": "python",
     "metadata": {},
     "outputs": [
      {
       "output_type": "stream",
       "stream": "stdout",
       "text": [
        "hello world\n"
       ]
      }
     ],
     "prompt_number": 1
    },
    {
     "cell_type": "code",
     "collapsed": false,
     "input": [
      "data=pandas.read_csv('genbank1.csv', na_values='-', sep=\"\\t\")\n",
      "data_naive = read_csv('genbank1.csv')\n",
      "print data_naive.columns\n",
      "print data.columns\n"
     ],
     "language": "python",
     "metadata": {},
     "outputs": [
      {
       "output_type": "stream",
       "stream": "stdout",
       "text": [
        "Index([u'#Organism/Name', u'BioProject', u'Group', u'SubGroup', u'Size (Mb)', u'GC%', u'Chromosomes/RefSeq', u'Chromosomes/INSDC', u'Plasmids/RefSeq', u'Plasmids/INSDC', u'WGS', u'Scaffolds', u'Genes', u'Proteins', u'Release Date', u'Modify Date', u'Status'], dtype='object')\n",
        "Index([u'#Organism/Name,BioProject,Group,SubGroup,Size (Mb),GC%,Chromosomes/RefSeq,Chromosomes/INSDC,Plasmids/RefSeq,Plasmids/INSDC,WGS,Scaffolds,Genes,Proteins,Release Date,Modify Date,Status'], dtype='object')\n"
       ]
      }
     ],
     "prompt_number": 33
    },
    {
     "cell_type": "code",
     "collapsed": false,
     "input": [
      "#pandas.Index.size(data.columns)  #(data_naive.columns, unicode('Genes'))"
     ],
     "language": "python",
     "metadata": {},
     "outputs": [
      {
       "ename": "TypeError",
       "evalue": "'getset_descriptor' object is not callable",
       "output_type": "pyerr",
       "traceback": [
        "\u001b[1;31m---------------------------------------------------------------------------\u001b[0m\n\u001b[1;31mTypeError\u001b[0m                                 Traceback (most recent call last)",
        "\u001b[1;32m<ipython-input-32-dccb1cced980>\u001b[0m in \u001b[0;36m<module>\u001b[1;34m()\u001b[0m\n\u001b[1;32m----> 1\u001b[1;33m \u001b[0mpandas\u001b[0m\u001b[1;33m.\u001b[0m\u001b[0mIndex\u001b[0m\u001b[1;33m.\u001b[0m\u001b[0msize\u001b[0m\u001b[1;33m(\u001b[0m\u001b[0mdata\u001b[0m\u001b[1;33m.\u001b[0m\u001b[0mcolumns\u001b[0m\u001b[1;33m.\u001b[0m\u001b[0mall\u001b[0m\u001b[1;33m)\u001b[0m  \u001b[1;31m#(data_naive.columns, unicode('Genes'))\u001b[0m\u001b[1;33m\u001b[0m\u001b[0m\n\u001b[0m",
        "\u001b[1;31mTypeError\u001b[0m: 'getset_descriptor' object is not callable"
       ]
      }
     ],
     "prompt_number": 32
    },
    {
     "cell_type": "code",
     "collapsed": false,
     "input": [
      "import urllib\n",
      "url = \"http://www.ncbi.nlm.nih.gov/genomes/Genome2BE/genome2srv.cgi?action=\"\n",
      "url += \"download&orgn=&report=proks&status=Complete|\"\n",
      "url += \"&group=--%20All%20Bacteria%20--&subgroup=--%20All%20Bacteria%20--\"\n",
      "\n",
      "mydownload = urllib.urlopen(url)\n",
      "print type(mydownload)"
     ],
     "language": "python",
     "metadata": {},
     "outputs": [
      {
       "output_type": "stream",
       "stream": "stdout",
       "text": [
        "<type 'instance'>\n"
       ]
      }
     ],
     "prompt_number": 36
    },
    {
     "cell_type": "code",
     "collapsed": false,
     "input": [
      "print mydownload.read()"
     ],
     "language": "python",
     "metadata": {},
     "outputs": [
      {
       "output_type": "stream",
       "stream": "stdout",
       "text": [
        "\n"
       ]
      }
     ],
     "prompt_number": 38
    },
    {
     "cell_type": "code",
     "collapsed": false,
     "input": [
      "newdata = pandas.read_csv(urllib.urlopen(url), sep=\"\\t\", na_values=\"-\")\n",
      "newdata.columns"
     ],
     "language": "python",
     "metadata": {},
     "outputs": [
      {
       "metadata": {},
       "output_type": "pyout",
       "prompt_number": 40,
       "text": [
        "Index([u'#Organism/Name', u'BioProject', u'Group', u'SubGroup', u'Size (Mb)', u'GC%', u'Chromosomes/RefSeq', u'Chromosomes/INSDC', u'Plasmids/RefSeq', u'Plasmids/INSDC', u'WGS', u'Scaffolds', u'Genes', u'Proteins', u'Release Date', u'Modify Date', u'Status'], dtype='object')"
       ]
      }
     ],
     "prompt_number": 40
    },
    {
     "cell_type": "code",
     "collapsed": false,
     "input": [
      "data= newdata\n",
      "print sum(data.Genes) # so in pandas form the null values are ignored\n",
      "print sum(np.array(data.Genes))  #when converted to numpy array, the nan's block sum from working\n",
      "print sum(np.isnan(np.array(data.Genes)))  #as there are 43 nan's"
     ],
     "language": "python",
     "metadata": {},
     "outputs": [
      {
       "output_type": "stream",
       "stream": "stdout",
       "text": [
        "8951442.0\n",
        "nan\n",
        "43\n"
       ]
      }
     ],
     "prompt_number": 49
    },
    {
     "cell_type": "code",
     "collapsed": false,
     "input": [
      "print len(data.Genes)\n",
      "new1 = data.Genes[~isnull(data.Genes)]\n",
      "print type(new1)\n",
      "print len(new1)"
     ],
     "language": "python",
     "metadata": {},
     "outputs": [
      {
       "output_type": "stream",
       "stream": "stdout",
       "text": [
        "2740\n",
        "<class 'pandas.core.series.Series'>\n",
        "2697\n"
       ]
      }
     ],
     "prompt_number": 50
    },
    {
     "cell_type": "code",
     "collapsed": false,
     "input": [
      "print type(data)  #data is a pandas.DataFrame\n",
      "print type(data.Genes)  #Genes column is a pandas Series\n",
      "\n",
      "print type(np.array(data.Genes)) #coverted to numpy ndarray\n",
      "print type(np.array(data.Genes)[2]) # an instance is a float64 \n",
      "# pandas.Index.is_(data.columns,'Genes')"
     ],
     "language": "python",
     "metadata": {},
     "outputs": [
      {
       "output_type": "stream",
       "stream": "stdout",
       "text": [
        "<class 'pandas.core.frame.DataFrame'>\n",
        "<class 'pandas.core.series.Series'>\n",
        "<type 'numpy.ndarray'>\n",
        "<type 'numpy.float64'>\n"
       ]
      }
     ],
     "prompt_number": 52
    },
    {
     "cell_type": "code",
     "collapsed": false,
     "input": [
      "np_genes = np.array(data.Genes)\n",
      "type(np_genes)"
     ],
     "language": "python",
     "metadata": {},
     "outputs": [
      {
       "metadata": {},
       "output_type": "pyout",
       "prompt_number": 57,
       "text": [
        "numpy.ndarray"
       ]
      }
     ],
     "prompt_number": 57
    },
    {
     "cell_type": "code",
     "collapsed": false,
     "input": [
      "def nantozero(x):\n",
      "    if np.isnan(x):\n",
      "        return int(0)\n",
      "    else:\n",
      "        return int(x)\n",
      "    "
     ],
     "language": "python",
     "metadata": {},
     "outputs": [],
     "prompt_number": 67
    },
    {
     "cell_type": "code",
     "collapsed": false,
     "input": [
      "np.apply_along_axis(nantozero,0, test1)"
     ],
     "language": "python",
     "metadata": {},
     "outputs": [
      {
       "ename": "ValueError",
       "evalue": "The truth value of an array with more than one element is ambiguous. Use a.any() or a.all()",
       "output_type": "pyerr",
       "traceback": [
        "\u001b[1;31m---------------------------------------------------------------------------\u001b[0m\n\u001b[1;31mValueError\u001b[0m                                Traceback (most recent call last)",
        "\u001b[1;32m<ipython-input-72-6ca8bd78e698>\u001b[0m in \u001b[0;36m<module>\u001b[1;34m()\u001b[0m\n\u001b[1;32m----> 1\u001b[1;33m \u001b[0mnp\u001b[0m\u001b[1;33m.\u001b[0m\u001b[0mapply_along_axis\u001b[0m\u001b[1;33m(\u001b[0m\u001b[0mnantozero\u001b[0m\u001b[1;33m,\u001b[0m\u001b[1;36m0\u001b[0m\u001b[1;33m,\u001b[0m \u001b[0mtest1\u001b[0m\u001b[1;33m)\u001b[0m\u001b[1;33m\u001b[0m\u001b[0m\n\u001b[0m",
        "\u001b[1;32mC:\\Python27\\lib\\site-packages\\numpy\\lib\\shape_base.pyc\u001b[0m in \u001b[0;36mapply_along_axis\u001b[1;34m(func1d, axis, arr, *args)\u001b[0m\n\u001b[0;32m     77\u001b[0m     \u001b[0moutshape\u001b[0m \u001b[1;33m=\u001b[0m \u001b[0masarray\u001b[0m\u001b[1;33m(\u001b[0m\u001b[0marr\u001b[0m\u001b[1;33m.\u001b[0m\u001b[0mshape\u001b[0m\u001b[1;33m)\u001b[0m\u001b[1;33m.\u001b[0m\u001b[0mtake\u001b[0m\u001b[1;33m(\u001b[0m\u001b[0mindlist\u001b[0m\u001b[1;33m)\u001b[0m\u001b[1;33m\u001b[0m\u001b[0m\n\u001b[0;32m     78\u001b[0m     \u001b[0mi\u001b[0m\u001b[1;33m.\u001b[0m\u001b[0mput\u001b[0m\u001b[1;33m(\u001b[0m\u001b[0mindlist\u001b[0m\u001b[1;33m,\u001b[0m \u001b[0mind\u001b[0m\u001b[1;33m)\u001b[0m\u001b[1;33m\u001b[0m\u001b[0m\n\u001b[1;32m---> 79\u001b[1;33m     \u001b[0mres\u001b[0m \u001b[1;33m=\u001b[0m \u001b[0mfunc1d\u001b[0m\u001b[1;33m(\u001b[0m\u001b[0marr\u001b[0m\u001b[1;33m[\u001b[0m\u001b[0mtuple\u001b[0m\u001b[1;33m(\u001b[0m\u001b[0mi\u001b[0m\u001b[1;33m.\u001b[0m\u001b[0mtolist\u001b[0m\u001b[1;33m(\u001b[0m\u001b[1;33m)\u001b[0m\u001b[1;33m)\u001b[0m\u001b[1;33m]\u001b[0m\u001b[1;33m,\u001b[0m\u001b[1;33m*\u001b[0m\u001b[0margs\u001b[0m\u001b[1;33m)\u001b[0m\u001b[1;33m\u001b[0m\u001b[0m\n\u001b[0m\u001b[0;32m     80\u001b[0m     \u001b[1;31m#  if res is a number, then we have a smaller output array\u001b[0m\u001b[1;33m\u001b[0m\u001b[1;33m\u001b[0m\u001b[0m\n\u001b[0;32m     81\u001b[0m     \u001b[1;32mif\u001b[0m \u001b[0misscalar\u001b[0m\u001b[1;33m(\u001b[0m\u001b[0mres\u001b[0m\u001b[1;33m)\u001b[0m\u001b[1;33m:\u001b[0m\u001b[1;33m\u001b[0m\u001b[0m\n",
        "\u001b[1;32m<ipython-input-67-b96573e54ab4>\u001b[0m in \u001b[0;36mnantozero\u001b[1;34m(x)\u001b[0m\n\u001b[0;32m      1\u001b[0m \u001b[1;32mdef\u001b[0m \u001b[0mnantozero\u001b[0m\u001b[1;33m(\u001b[0m\u001b[0mx\u001b[0m\u001b[1;33m)\u001b[0m\u001b[1;33m:\u001b[0m\u001b[1;33m\u001b[0m\u001b[0m\n\u001b[1;32m----> 2\u001b[1;33m     \u001b[1;32mif\u001b[0m \u001b[0mnp\u001b[0m\u001b[1;33m.\u001b[0m\u001b[0misnan\u001b[0m\u001b[1;33m(\u001b[0m\u001b[0mx\u001b[0m\u001b[1;33m)\u001b[0m\u001b[1;33m:\u001b[0m\u001b[1;33m\u001b[0m\u001b[0m\n\u001b[0m\u001b[0;32m      3\u001b[0m         \u001b[1;32mreturn\u001b[0m \u001b[0mint\u001b[0m\u001b[1;33m(\u001b[0m\u001b[1;36m0\u001b[0m\u001b[1;33m)\u001b[0m\u001b[1;33m\u001b[0m\u001b[0m\n\u001b[0;32m      4\u001b[0m     \u001b[1;32melse\u001b[0m\u001b[1;33m:\u001b[0m\u001b[1;33m\u001b[0m\u001b[0m\n\u001b[0;32m      5\u001b[0m         \u001b[1;32mreturn\u001b[0m \u001b[0mint\u001b[0m\u001b[1;33m(\u001b[0m\u001b[0mx\u001b[0m\u001b[1;33m)\u001b[0m\u001b[1;33m\u001b[0m\u001b[0m\n",
        "\u001b[1;31mValueError\u001b[0m: The truth value of an array with more than one element is ambiguous. Use a.any() or a.all()"
       ]
      }
     ],
     "prompt_number": 72
    },
    {
     "cell_type": "code",
     "collapsed": false,
     "input": [
      "t_np_genes = np.nan_to_num(np_genes) #np_genes"
     ],
     "language": "python",
     "metadata": {},
     "outputs": [],
     "prompt_number": 74
    },
    {
     "cell_type": "code",
     "collapsed": false,
     "input": [
      "sum(t_np_genes)"
     ],
     "language": "python",
     "metadata": {},
     "outputs": [
      {
       "metadata": {},
       "output_type": "pyout",
       "prompt_number": 75,
       "text": [
        "8951442.0"
       ]
      }
     ],
     "prompt_number": 75
    },
    {
     "cell_type": "code",
     "collapsed": false,
     "input": [
      "sum(data.Genes)"
     ],
     "language": "python",
     "metadata": {},
     "outputs": [
      {
       "metadata": {},
       "output_type": "pyout",
       "prompt_number": 81,
       "text": [
        "8951442.0"
       ]
      }
     ],
     "prompt_number": 81
    },
    {
     "cell_type": "code",
     "collapsed": false,
     "input": [
      "print len(data.Genes), len(np_genes), len(t_np_genes)"
     ],
     "language": "python",
     "metadata": {},
     "outputs": [
      {
       "output_type": "stream",
       "stream": "stdout",
       "text": [
        "2740 2740 2740\n"
       ]
      }
     ],
     "prompt_number": 82
    },
    {
     "cell_type": "code",
     "collapsed": false,
     "input": [
      "np.nanmin(np_genes)"
     ],
     "language": "python",
     "metadata": {},
     "outputs": [
      {
       "metadata": {},
       "output_type": "pyout",
       "prompt_number": 83,
       "text": [
        "27.0"
       ]
      }
     ],
     "prompt_number": 83
    },
    {
     "cell_type": "code",
     "collapsed": false,
     "input": [
      "np.nanmin(t_np_genes)"
     ],
     "language": "python",
     "metadata": {},
     "outputs": [
      {
       "metadata": {},
       "output_type": "pyout",
       "prompt_number": 85,
       "text": [
        "0.0"
       ]
      }
     ],
     "prompt_number": 85
    },
    {
     "cell_type": "code",
     "collapsed": false,
     "input": [
      "print mean(data.Genes), np.nanmean(np_genes), np.mean(t_np_genes)"
     ],
     "language": "python",
     "metadata": {},
     "outputs": [
      {
       "output_type": "stream",
       "stream": "stdout",
       "text": [
        "3319.03670745 3319.03670745 3266.94963504\n"
       ]
      }
     ],
     "prompt_number": 86
    },
    {
     "cell_type": "code",
     "collapsed": false,
     "input": [],
     "language": "python",
     "metadata": {},
     "outputs": []
    },
    {
     "cell_type": "code",
     "collapsed": false,
     "input": [
      "test1 = np.array([1,2,np.nan,4])\n",
      "print test1"
     ],
     "language": "python",
     "metadata": {},
     "outputs": [
      {
       "output_type": "stream",
       "stream": "stdout",
       "text": [
        "[  1.   2.  nan   4.]\n"
       ]
      }
     ],
     "prompt_number": 63
    },
    {
     "cell_type": "code",
     "collapsed": false,
     "input": [
      "nantozero(test1[1])"
     ],
     "language": "python",
     "metadata": {},
     "outputs": [
      {
       "metadata": {},
       "output_type": "pyout",
       "prompt_number": 68,
       "text": [
        "2"
       ]
      }
     ],
     "prompt_number": 68
    },
    {
     "cell_type": "code",
     "collapsed": false,
     "input": [
      "data = read_csv(urllib.urlopen(url), na_values='-', sep=\"\\t\")\n",
      "# read_csv is a pandas function, so data becomes a pandas dataframe\n",
      "   # apparently indexed at 1, not 0"
     ],
     "language": "python",
     "metadata": {},
     "outputs": []
    },
    {
     "cell_type": "code",
     "collapsed": false,
     "input": [
      "from matplotlib import pyplot as sutplot"
     ],
     "language": "python",
     "metadata": {},
     "outputs": [],
     "prompt_number": 77
    },
    {
     "cell_type": "code",
     "collapsed": false,
     "input": [
      "sutplot.hist(t_np_genes,20)\n",
      "sutplot.show()"
     ],
     "language": "python",
     "metadata": {},
     "outputs": [],
     "prompt_number": 78
    },
    {
     "cell_type": "code",
     "collapsed": false,
     "input": [],
     "language": "python",
     "metadata": {},
     "outputs": []
    },
    {
     "cell_type": "code",
     "collapsed": false,
     "input": [
      "sutplot.hist(data.Genes, 20)\n",
      "sutplot.show()"
     ],
     "language": "python",
     "metadata": {},
     "outputs": [
      {
       "ename": "AttributeError",
       "evalue": "max must be larger than min in range parameter.",
       "output_type": "pyerr",
       "traceback": [
        "\u001b[1;31m---------------------------------------------------------------------------\u001b[0m\n\u001b[1;31mAttributeError\u001b[0m                            Traceback (most recent call last)",
        "\u001b[1;32m<ipython-input-55-4da66b5824c0>\u001b[0m in \u001b[0;36m<module>\u001b[1;34m()\u001b[0m\n\u001b[1;32m----> 1\u001b[1;33m \u001b[0msutplot\u001b[0m\u001b[1;33m.\u001b[0m\u001b[0mhist\u001b[0m\u001b[1;33m(\u001b[0m\u001b[0mdata\u001b[0m\u001b[1;33m.\u001b[0m\u001b[0mGenes\u001b[0m\u001b[1;33m,\u001b[0m \u001b[1;36m20\u001b[0m\u001b[1;33m)\u001b[0m\u001b[1;33m\u001b[0m\u001b[0m\n\u001b[0m\u001b[0;32m      2\u001b[0m \u001b[0msutplot\u001b[0m\u001b[1;33m.\u001b[0m\u001b[0mshow\u001b[0m\u001b[1;33m(\u001b[0m\u001b[1;33m)\u001b[0m\u001b[1;33m\u001b[0m\u001b[0m\n",
        "\u001b[1;32mC:\\Python27\\lib\\site-packages\\matplotlib\\pyplot.pyc\u001b[0m in \u001b[0;36mhist\u001b[1;34m(x, bins, range, normed, weights, cumulative, bottom, histtype, align, orientation, rwidth, log, color, label, stacked, hold, **kwargs)\u001b[0m\n\u001b[0;32m   2825\u001b[0m                       \u001b[0mhisttype\u001b[0m\u001b[1;33m=\u001b[0m\u001b[0mhisttype\u001b[0m\u001b[1;33m,\u001b[0m \u001b[0malign\u001b[0m\u001b[1;33m=\u001b[0m\u001b[0malign\u001b[0m\u001b[1;33m,\u001b[0m \u001b[0morientation\u001b[0m\u001b[1;33m=\u001b[0m\u001b[0morientation\u001b[0m\u001b[1;33m,\u001b[0m\u001b[1;33m\u001b[0m\u001b[0m\n\u001b[0;32m   2826\u001b[0m                       \u001b[0mrwidth\u001b[0m\u001b[1;33m=\u001b[0m\u001b[0mrwidth\u001b[0m\u001b[1;33m,\u001b[0m \u001b[0mlog\u001b[0m\u001b[1;33m=\u001b[0m\u001b[0mlog\u001b[0m\u001b[1;33m,\u001b[0m \u001b[0mcolor\u001b[0m\u001b[1;33m=\u001b[0m\u001b[0mcolor\u001b[0m\u001b[1;33m,\u001b[0m \u001b[0mlabel\u001b[0m\u001b[1;33m=\u001b[0m\u001b[0mlabel\u001b[0m\u001b[1;33m,\u001b[0m\u001b[1;33m\u001b[0m\u001b[0m\n\u001b[1;32m-> 2827\u001b[1;33m                       stacked=stacked, **kwargs)\n\u001b[0m\u001b[0;32m   2828\u001b[0m         \u001b[0mdraw_if_interactive\u001b[0m\u001b[1;33m(\u001b[0m\u001b[1;33m)\u001b[0m\u001b[1;33m\u001b[0m\u001b[0m\n\u001b[0;32m   2829\u001b[0m     \u001b[1;32mfinally\u001b[0m\u001b[1;33m:\u001b[0m\u001b[1;33m\u001b[0m\u001b[0m\n",
        "\u001b[1;32mC:\\Python27\\lib\\site-packages\\matplotlib\\axes.pyc\u001b[0m in \u001b[0;36mhist\u001b[1;34m(self, x, bins, range, normed, weights, cumulative, bottom, histtype, align, orientation, rwidth, log, color, label, stacked, **kwargs)\u001b[0m\n\u001b[0;32m   8342\u001b[0m             \u001b[1;31m# this will automatically overwrite bins,\u001b[0m\u001b[1;33m\u001b[0m\u001b[1;33m\u001b[0m\u001b[0m\n\u001b[0;32m   8343\u001b[0m             \u001b[1;31m# so that each histogram uses the same bins\u001b[0m\u001b[1;33m\u001b[0m\u001b[1;33m\u001b[0m\u001b[0m\n\u001b[1;32m-> 8344\u001b[1;33m             \u001b[0mm\u001b[0m\u001b[1;33m,\u001b[0m \u001b[0mbins\u001b[0m \u001b[1;33m=\u001b[0m \u001b[0mnp\u001b[0m\u001b[1;33m.\u001b[0m\u001b[0mhistogram\u001b[0m\u001b[1;33m(\u001b[0m\u001b[0mx\u001b[0m\u001b[1;33m[\u001b[0m\u001b[0mi\u001b[0m\u001b[1;33m]\u001b[0m\u001b[1;33m,\u001b[0m \u001b[0mbins\u001b[0m\u001b[1;33m,\u001b[0m \u001b[0mweights\u001b[0m\u001b[1;33m=\u001b[0m\u001b[0mw\u001b[0m\u001b[1;33m[\u001b[0m\u001b[0mi\u001b[0m\u001b[1;33m]\u001b[0m\u001b[1;33m,\u001b[0m \u001b[1;33m**\u001b[0m\u001b[0mhist_kwargs\u001b[0m\u001b[1;33m)\u001b[0m\u001b[1;33m\u001b[0m\u001b[0m\n\u001b[0m\u001b[0;32m   8345\u001b[0m             \u001b[0mm\u001b[0m \u001b[1;33m=\u001b[0m \u001b[0mm\u001b[0m\u001b[1;33m.\u001b[0m\u001b[0mastype\u001b[0m\u001b[1;33m(\u001b[0m\u001b[0mfloat\u001b[0m\u001b[1;33m)\u001b[0m \u001b[1;31m# causes problems later if it's an int\u001b[0m\u001b[1;33m\u001b[0m\u001b[0m\n\u001b[0;32m   8346\u001b[0m             \u001b[1;32mif\u001b[0m \u001b[0mnormed\u001b[0m \u001b[1;32mand\u001b[0m \u001b[1;32mnot\u001b[0m \u001b[0mstacked\u001b[0m\u001b[1;33m:\u001b[0m\u001b[1;33m\u001b[0m\u001b[0m\n",
        "\u001b[1;32mC:\\Python27\\lib\\site-packages\\numpy\\lib\\function_base.pyc\u001b[0m in \u001b[0;36mhistogram\u001b[1;34m(a, bins, range, normed, weights, density)\u001b[0m\n\u001b[0;32m    163\u001b[0m         \u001b[1;32mif\u001b[0m \u001b[1;33m(\u001b[0m\u001b[0mmn\u001b[0m \u001b[1;33m>\u001b[0m \u001b[0mmx\u001b[0m\u001b[1;33m)\u001b[0m\u001b[1;33m:\u001b[0m\u001b[1;33m\u001b[0m\u001b[0m\n\u001b[0;32m    164\u001b[0m             raise AttributeError(\n\u001b[1;32m--> 165\u001b[1;33m                 'max must be larger than min in range parameter.')\n\u001b[0m\u001b[0;32m    166\u001b[0m \u001b[1;33m\u001b[0m\u001b[0m\n\u001b[0;32m    167\u001b[0m     \u001b[1;32mif\u001b[0m \u001b[1;32mnot\u001b[0m \u001b[0miterable\u001b[0m\u001b[1;33m(\u001b[0m\u001b[0mbins\u001b[0m\u001b[1;33m)\u001b[0m\u001b[1;33m:\u001b[0m\u001b[1;33m\u001b[0m\u001b[0m\n",
        "\u001b[1;31mAttributeError\u001b[0m: max must be larger than min in range parameter."
       ]
      }
     ],
     "prompt_number": 55
    },
    {
     "cell_type": "code",
     "collapsed": false,
     "input": [
      "type(np_nonullgenes[2])\n",
      "print np_nonullgenes[2] + np_nonullgenes[3]\n",
      "# thenulls = np.isnan(np_nonullgenes)"
     ],
     "language": "python",
     "metadata": {},
     "outputs": [
      {
       "output_type": "stream",
       "stream": "stdout",
       "text": [
        "45134\n"
       ]
      }
     ],
     "prompt_number": 12
    },
    {
     "cell_type": "code",
     "collapsed": false,
     "input": [
      "data2 = data\n",
      "print len(data2)\n",
      "no_refseq = isnull(data['Chromosomes/RefSeq'])\n",
      "print type(no_refseq)\n",
      "print \"Without RefSeq: %i/%i\" % (sum(no_refseq), len(no_refseq))\n",
      "data = data2[~no_refseq]\n",
      "print len(data)\n",
      "#i get 2538 here but 2777 in eclipse?"
     ],
     "language": "python",
     "metadata": {},
     "outputs": [
      {
       "output_type": "stream",
       "stream": "stdout",
       "text": [
        "2734\n",
        "<class 'pandas.core.series.Series'>\n",
        "Without RefSeq: 195/2734\n",
        "2539\n"
       ]
      }
     ],
     "prompt_number": 4
    },
    {
     "cell_type": "code",
     "collapsed": false,
     "input": [
      "mom_genes = isnull(data['Genes'])"
     ],
     "language": "python",
     "metadata": {},
     "outputs": [],
     "prompt_number": 6
    },
    {
     "cell_type": "code",
     "collapsed": false,
     "input": [
      "type(mom_genes)"
     ],
     "language": "python",
     "metadata": {},
     "outputs": [
      {
       "metadata": {},
       "output_type": "pyout",
       "prompt_number": 8,
       "text": [
        "pandas.core.series.Series"
       ]
      }
     ],
     "prompt_number": 8
    },
    {
     "cell_type": "code",
     "collapsed": false,
     "input": [
      "print len(data['Genes'])\n",
      "yes_genes = data['Genes'][~mom_genes]\n",
      "print len(yes_genes)\n",
      "np_yesgenes = np.array(yes_genes)\n",
      "print type(np_yesgenes)"
     ],
     "language": "python",
     "metadata": {},
     "outputs": [
      {
       "output_type": "stream",
       "stream": "stdout",
       "text": [
        "2539\n",
        "2524\n",
        "<type 'numpy.ndarray'>\n"
       ]
      }
     ],
     "prompt_number": 9
    },
    {
     "cell_type": "code",
     "collapsed": false,
     "input": [
      "import matplotlib.pyplot as sutplot"
     ],
     "language": "python",
     "metadata": {},
     "outputs": [],
     "prompt_number": 10
    },
    {
     "cell_type": "code",
     "collapsed": false,
     "input": [
      "print len(data),len(data2), len(mom_genes)"
     ],
     "language": "python",
     "metadata": {},
     "outputs": [
      {
       "output_type": "stream",
       "stream": "stdout",
       "text": [
        "2539 2734 2539\n"
       ]
      }
     ],
     "prompt_number": 21
    },
    {
     "cell_type": "code",
     "collapsed": false,
     "input": [
      "# try1 = \n",
      "sutplot.hist(np.array(data['Genes'][~mom_genes]),40)\n",
      "sutplot.show()"
     ],
     "language": "python",
     "metadata": {},
     "outputs": [],
     "prompt_number": 23
    },
    {
     "cell_type": "code",
     "collapsed": false,
     "input": [],
     "language": "python",
     "metadata": {},
     "outputs": []
    },
    {
     "cell_type": "code",
     "collapsed": false,
     "input": [
      "print sum(no_refseq)\n",
      "np_rand = np.random.randn(len(no_refseq))"
     ],
     "language": "python",
     "metadata": {},
     "outputs": [
      {
       "output_type": "stream",
       "stream": "stdout",
       "text": [
        "0\n"
       ]
      }
     ],
     "prompt_number": 67
    },
    {
     "cell_type": "code",
     "collapsed": false,
     "input": [
      "len(data)"
     ],
     "language": "python",
     "metadata": {},
     "outputs": [
      {
       "metadata": {},
       "output_type": "pyout",
       "prompt_number": 24,
       "text": [
        "2539"
       ]
      }
     ],
     "prompt_number": 24
    },
    {
     "cell_type": "code",
     "collapsed": false,
     "input": [
      "type(no_refseq) # so this is a pandas' series"
     ],
     "language": "python",
     "metadata": {},
     "outputs": [
      {
       "metadata": {},
       "output_type": "pyout",
       "prompt_number": 39,
       "text": [
        "pandas.core.series.Series"
       ]
      }
     ],
     "prompt_number": 39
    },
    {
     "cell_type": "code",
     "collapsed": false,
     "input": [
      "sum(no_refseq)"
     ],
     "language": "python",
     "metadata": {},
     "outputs": [
      {
       "metadata": {},
       "output_type": "pyout",
       "prompt_number": 17,
       "text": [
        "0"
       ]
      }
     ],
     "prompt_number": 17
    },
    {
     "cell_type": "code",
     "collapsed": false,
     "input": [
      "no_refseq[1]"
     ],
     "language": "python",
     "metadata": {},
     "outputs": [
      {
       "metadata": {},
       "output_type": "pyout",
       "prompt_number": 14,
       "text": [
        "False"
       ]
      }
     ],
     "prompt_number": 14
    },
    {
     "cell_type": "code",
     "collapsed": false,
     "input": [
      "type(no_refseq)"
     ],
     "language": "python",
     "metadata": {},
     "outputs": [
      {
       "metadata": {},
       "output_type": "pyout",
       "prompt_number": 15,
       "text": [
        "pandas.core.series.Series"
       ]
      }
     ],
     "prompt_number": 15
    },
    {
     "cell_type": "code",
     "collapsed": false,
     "input": [
      "sum(data['Genes'])/len(a_vec)\n",
      "# plotter.plot()"
     ],
     "language": "python",
     "metadata": {},
     "outputs": [
      {
       "ename": "NameError",
       "evalue": "name 'a_vec' is not defined",
       "output_type": "pyerr",
       "traceback": [
        "\u001b[1;31m---------------------------------------------------------------------------\u001b[0m\n\u001b[1;31mNameError\u001b[0m                                 Traceback (most recent call last)",
        "\u001b[1;32m<ipython-input-25-3d6a380d9506>\u001b[0m in \u001b[0;36m<module>\u001b[1;34m()\u001b[0m\n\u001b[1;32m----> 1\u001b[1;33m \u001b[0msum\u001b[0m\u001b[1;33m(\u001b[0m\u001b[0mdata\u001b[0m\u001b[1;33m[\u001b[0m\u001b[1;34m'Genes'\u001b[0m\u001b[1;33m]\u001b[0m\u001b[1;33m)\u001b[0m\u001b[1;33m/\u001b[0m\u001b[0mlen\u001b[0m\u001b[1;33m(\u001b[0m\u001b[0ma_vec\u001b[0m\u001b[1;33m)\u001b[0m\u001b[1;33m\u001b[0m\u001b[0m\n\u001b[0m\u001b[0;32m      2\u001b[0m \u001b[1;31m# plotter.plot()\u001b[0m\u001b[1;33m\u001b[0m\u001b[1;33m\u001b[0m\u001b[0m\n",
        "\u001b[1;31mNameError\u001b[0m: name 'a_vec' is not defined"
       ]
      }
     ],
     "prompt_number": 25
    },
    {
     "cell_type": "code",
     "collapsed": false,
     "input": [
      "rand1 = np.random.randn(200)\n",
      "#print aaa\n",
      "sutplot.hist(rand1,20)\n",
      "sutplot.show()\n"
     ],
     "language": "python",
     "metadata": {},
     "outputs": [],
     "prompt_number": 27
    },
    {
     "cell_type": "code",
     "collapsed": false,
     "input": [
      "np_vec = np.array(data['Genes'])\n",
      "type(np_vec)"
     ],
     "language": "python",
     "metadata": {},
     "outputs": [
      {
       "metadata": {},
       "output_type": "pyout",
       "prompt_number": 29,
       "text": [
        "numpy.ndarray"
       ]
      }
     ],
     "prompt_number": 29
    },
    {
     "cell_type": "code",
     "collapsed": false,
     "input": [
      "try2 = np.arange(10)"
     ],
     "language": "python",
     "metadata": {},
     "outputs": [
      {
       "output_type": "stream",
       "stream": "stdout",
       "text": [
        "[0 1 2 3 4 5 6 7 8 9]\n",
        "15\n",
        "15\n",
        "16520\n"
       ]
      }
     ],
     "prompt_number": 87
    },
    {
     "cell_type": "code",
     "collapsed": false,
     "input": [
      "data.columns"
     ],
     "language": "python",
     "metadata": {},
     "outputs": [
      {
       "metadata": {},
       "output_type": "pyout",
       "prompt_number": 34,
       "text": [
        "Index([u'#Organism/Name', u'BioProject', u'Group', u'SubGroup', u'Size (Mb)', u'GC%', u'Chromosomes/RefSeq', u'Chromosomes/INSDC', u'Plasmids/RefSeq', u'Plasmids/INSDC', u'WGS', u'Scaffolds', u'Genes', u'Proteins', u'Release Date', u'Modify Date', u'Status'], dtype='object')"
       ]
      }
     ],
     "prompt_number": 34
    },
    {
     "cell_type": "code",
     "collapsed": false,
     "input": [
      "data['#Organism/Name'][isnull(data['Genes'])]"
     ],
     "language": "python",
     "metadata": {},
     "outputs": [
      {
       "metadata": {},
       "output_type": "pyout",
       "prompt_number": 36,
       "text": [
        "469                      Streptococcus pneumoniae PCS8235\n",
        "474                    Streptococcus pneumoniae SPN032672\n",
        "475                    Streptococcus pneumoniae SPN033038\n",
        "622     Legionella pneumophila subsp. pneumophila str....\n",
        "623     Legionella pneumophila subsp. pneumophila str....\n",
        "815                          Rhodobacter sphaeroides WS8N\n",
        "865                             Clostridium difficile CF5\n",
        "866                            Clostridium difficile M120\n",
        "868                         Clostridium difficile 2007855\n",
        "869                             Clostridium difficile M68\n",
        "870                             Clostridium difficile BI9\n",
        "2341                       Oenococcus kitaharae DSM 17330\n",
        "2401                            Rickettsia helvetica C9P9\n",
        "2637                         Thermotoga elfii NBRC 107921\n",
        "2638                       Thermotoga hypogea NBRC 106472\n",
        "Name: #Organism/Name, dtype: object"
       ]
      }
     ],
     "prompt_number": 36
    },
    {
     "cell_type": "code",
     "collapsed": false,
     "input": [
      "sum(data['Size (Mb)'])\n"
     ],
     "language": "python",
     "metadata": {},
     "outputs": [
      {
       "metadata": {},
       "output_type": "pyout",
       "prompt_number": 37,
       "text": [
        "8958.4326080000046"
       ]
      }
     ],
     "prompt_number": 37
    },
    {
     "cell_type": "code",
     "collapsed": false,
     "input": [
      "import os\n",
      "try:\n",
      "    os.mkdir('fasta')\n",
      "except OSError:\n",
      "    pass\n",
      "\n",
      "try:\n",
      "    os.mkdir('skew_plots')\n",
      "except OSError:\n",
      "    pass\n"
     ],
     "language": "python",
     "metadata": {},
     "outputs": [],
     "prompt_number": 29
    },
    {
     "cell_type": "code",
     "collapsed": false,
     "input": [
      "from Bio import Entrez, SeqIO\n",
      "Entrez?"
     ],
     "language": "python",
     "metadata": {},
     "outputs": [],
     "prompt_number": 87
    },
    {
     "cell_type": "code",
     "collapsed": false,
     "input": [
      "my_email = \"wsutton17@gmail.com\" \n",
      "Entrez.email = my_email"
     ],
     "language": "python",
     "metadata": {},
     "outputs": []
    },
    {
     "cell_type": "code",
     "collapsed": false,
     "input": [
      "# print len(data.data), len(data)\n",
      "print  len(data)\n",
      "print data.Genes"
     ],
     "language": "python",
     "metadata": {},
     "outputs": [
      {
       "output_type": "stream",
       "stream": "stdout",
       "text": [
        "2740\n",
        "0      NaN\n",
        "1     1670\n",
        "2     1940\n",
        "3     1812\n",
        "4     2037\n",
        "5     1681\n",
        "6     1671\n",
        "7     1740\n",
        "8     1866\n",
        "9     1675\n",
        "10    1698\n",
        "11    1657\n",
        "12    1725\n",
        "13    1759\n",
        "14    1804\n",
        "...\n",
        "2725     1912\n",
        "2726     5075\n",
        "2727    10144\n",
        "2728     4951\n",
        "2729     3469\n",
        "2730     1099\n",
        "2731      919\n",
        "2732     2400\n",
        "2733     2682\n",
        "2734      964\n",
        "2735      886\n",
        "2736     2983\n",
        "2737     5924\n",
        "2738     1241\n",
        "2739      870\n",
        "Name: Genes, Length: 2740, dtype: float64\n"
       ]
      }
     ],
     "prompt_number": 88
    },
    {
     "cell_type": "code",
     "collapsed": false,
     "input": [
      "data2['newCol'] = data2.apply(lambda row: myfunc(row['Genes']),axis=1)"
     ],
     "language": "python",
     "metadata": {},
     "outputs": [],
     "prompt_number": 77
    },
    {
     "cell_type": "code",
     "collapsed": false,
     "input": [
      "%time 1+1"
     ],
     "language": "python",
     "metadata": {},
     "outputs": [
      {
       "output_type": "stream",
       "stream": "stdout",
       "text": [
        "Wall time: 0 ns\n"
       ]
      },
      {
       "metadata": {},
       "output_type": "pyout",
       "prompt_number": 82,
       "text": [
        "2"
       ]
      }
     ],
     "prompt_number": 82
    },
    {
     "cell_type": "code",
     "collapsed": false,
     "input": [
      "%time sutman = np.arange(999999)"
     ],
     "language": "python",
     "metadata": {},
     "outputs": [
      {
       "output_type": "stream",
       "stream": "stdout",
       "text": [
        "Wall time: 2 ms\n"
       ]
      }
     ],
     "prompt_number": 83
    },
    {
     "cell_type": "code",
     "collapsed": false,
     "input": [
      "import sys\n",
      "print sys.path"
     ],
     "language": "python",
     "metadata": {},
     "outputs": [
      {
       "output_type": "stream",
       "stream": "stdout",
       "text": [
        "['', 'C:\\\\Python27\\\\lib\\\\site-packages\\\\distribute-0.6.49-py2.7.egg', 'C:\\\\Python27', 'C:\\\\windows\\\\SYSTEM32\\\\python27.zip', 'C:\\\\Python27\\\\DLLs', 'C:\\\\Python27\\\\lib', 'C:\\\\Python27\\\\lib\\\\plat-win', 'C:\\\\Python27\\\\lib\\\\lib-tk', 'C:\\\\Python27\\\\lib\\\\site-packages', 'C:\\\\Python27\\\\lib\\\\site-packages\\\\setuptools-0.6c11-py2.7.egg-info', 'C:\\\\Python27\\\\lib\\\\site-packages\\\\IPython\\\\extensions']\n"
       ]
      }
     ],
     "prompt_number": 85
    },
    {
     "cell_type": "code",
     "collapsed": false,
     "input": [
      "import sklearn"
     ],
     "language": "python",
     "metadata": {},
     "outputs": [],
     "prompt_number": 89
    },
    {
     "cell_type": "code",
     "collapsed": false,
     "input": [
      "sklearn.__version__"
     ],
     "language": "python",
     "metadata": {},
     "outputs": [
      {
       "metadata": {},
       "output_type": "pyout",
       "prompt_number": 109,
       "text": [
        "'0.14.1'"
       ]
      }
     ],
     "prompt_number": 109
    },
    {
     "cell_type": "code",
     "collapsed": false,
     "input": [
      "# from sklearn import datasets\n",
      "# iris = datasets.load_iris()\n",
      "sklearn.sys?"
     ],
     "language": "python",
     "metadata": {},
     "outputs": [],
     "prompt_number": 103
    },
    {
     "cell_type": "code",
     "collapsed": false,
     "input": [
      "sklearn.sys.path"
     ],
     "language": "python",
     "metadata": {},
     "outputs": [
      {
       "metadata": {},
       "output_type": "pyout",
       "prompt_number": 104,
       "text": [
        "['',\n",
        " 'C:\\\\Python27\\\\lib\\\\site-packages\\\\distribute-0.6.49-py2.7.egg',\n",
        " 'C:\\\\Python27',\n",
        " 'C:\\\\windows\\\\SYSTEM32\\\\python27.zip',\n",
        " 'C:\\\\Python27\\\\DLLs',\n",
        " 'C:\\\\Python27\\\\lib',\n",
        " 'C:\\\\Python27\\\\lib\\\\plat-win',\n",
        " 'C:\\\\Python27\\\\lib\\\\lib-tk',\n",
        " 'C:\\\\Python27\\\\lib\\\\site-packages',\n",
        " 'C:\\\\Python27\\\\lib\\\\site-packages\\\\setuptools-0.6c11-py2.7.egg-info',\n",
        " 'C:\\\\Python27\\\\lib\\\\site-packages\\\\IPython\\\\extensions']"
       ]
      }
     ],
     "prompt_number": 104
    },
    {
     "cell_type": "code",
     "collapsed": false,
     "input": [
      "sklearn.dataset "
     ],
     "language": "python",
     "metadata": {},
     "outputs": [
      {
       "ename": "AttributeError",
       "evalue": "'module' object has no attribute 'dataset'",
       "output_type": "pyerr",
       "traceback": [
        "\u001b[1;31m---------------------------------------------------------------------------\u001b[0m\n\u001b[1;31mAttributeError\u001b[0m                            Traceback (most recent call last)",
        "\u001b[1;32m<ipython-input-98-5b5638083de6>\u001b[0m in \u001b[0;36m<module>\u001b[1;34m()\u001b[0m\n\u001b[1;32m----> 1\u001b[1;33m \u001b[0msklearn\u001b[0m\u001b[1;33m.\u001b[0m\u001b[0mdataset\u001b[0m\u001b[1;33m\u001b[0m\u001b[0m\n\u001b[0m",
        "\u001b[1;31mAttributeError\u001b[0m: 'module' object has no attribute 'dataset'"
       ]
      }
     ],
     "prompt_number": 98
    },
    {
     "cell_type": "code",
     "collapsed": false,
     "input": [
      "iris = pandas.read_csv('C:\\Python27\\Lib\\site-packages\\sklearn\\datasets\\data\\iris.csv')\n",
      "digits = pandas.read_csv('C:\\Python27\\Lib\\site-packages\\sklearn\\datasets\\data\\digits.csv')\n",
      "print joe\n",
      "print digits"
     ],
     "language": "python",
     "metadata": {},
     "outputs": [
      {
       "output_type": "stream",
       "stream": "stdout",
       "text": [
        "    150    4  setosa  versicolor  virginica\n",
        "0   5.1  3.5     1.4         0.2          0\n",
        "1   4.9  3.0     1.4         0.2          0\n",
        "2   4.7  3.2     1.3         0.2          0\n",
        "3   4.6  3.1     1.5         0.2          0\n",
        "4   5.0  3.6     1.4         0.2          0\n",
        "5   5.4  3.9     1.7         0.4          0\n",
        "6   4.6  3.4     1.4         0.3          0\n",
        "7   5.0  3.4     1.5         0.2          0\n",
        "8   4.4  2.9     1.4         0.2          0\n",
        "9   4.9  3.1     1.5         0.1          0\n",
        "10  5.4  3.7     1.5         0.2          0\n",
        "11  4.8  3.4     1.6         0.2          0\n",
        "12  4.8  3.0     1.4         0.1          0\n",
        "13  4.3  3.0     1.1         0.1          0\n",
        "14  5.8  4.0     1.2         0.2          0\n",
        "15  5.7  4.4     1.5         0.4          0\n",
        "16  5.4  3.9     1.3         0.4          0\n",
        "17  5.1  3.5     1.4         0.3          0\n",
        "18  5.7  3.8     1.7         0.3          0\n",
        "19  5.1  3.8     1.5         0.3          0\n",
        "20  5.4  3.4     1.7         0.2          0\n",
        "21  5.1  3.7     1.5         0.4          0\n",
        "22  4.6  3.6     1.0         0.2          0\n",
        "23  5.1  3.3     1.7         0.5          0\n",
        "24  4.8  3.4     1.9         0.2          0\n",
        "25  5.0  3.0     1.6         0.2          0\n",
        "26  5.0  3.4     1.6         0.4          0\n",
        "27  5.2  3.5     1.5         0.2          0\n",
        "28  5.2  3.4     1.4         0.2          0\n",
        "29  4.7  3.2     1.6         0.2          0\n",
        "30  4.8  3.1     1.6         0.2          0\n",
        "31  5.4  3.4     1.5         0.4          0\n",
        "32  5.2  4.1     1.5         0.1          0\n",
        "33  5.5  4.2     1.4         0.2          0\n",
        "34  4.9  3.1     1.5         0.1          0\n",
        "35  5.0  3.2     1.2         0.2          0\n",
        "36  5.5  3.5     1.3         0.2          0\n",
        "37  4.9  3.1     1.5         0.1          0\n",
        "38  4.4  3.0     1.3         0.2          0\n",
        "39  5.1  3.4     1.5         0.2          0\n",
        "40  5.0  3.5     1.3         0.3          0\n",
        "41  4.5  2.3     1.3         0.3          0\n",
        "42  4.4  3.2     1.3         0.2          0\n",
        "43  5.0  3.5     1.6         0.6          0\n",
        "44  5.1  3.8     1.9         0.4          0\n",
        "45  4.8  3.0     1.4         0.3          0\n",
        "46  5.1  3.8     1.6         0.2          0\n",
        "47  4.6  3.2     1.4         0.2          0\n",
        "48  5.3  3.7     1.5         0.2          0\n",
        "49  5.0  3.3     1.4         0.2          0\n",
        "50  7.0  3.2     4.7         1.4          1\n",
        "51  6.4  3.2     4.5         1.5          1\n",
        "52  6.9  3.1     4.9         1.5          1\n",
        "53  5.5  2.3     4.0         1.3          1\n",
        "54  6.5  2.8     4.6         1.5          1\n",
        "55  5.7  2.8     4.5         1.3          1\n",
        "56  6.3  3.3     4.7         1.6          1\n",
        "57  4.9  2.4     3.3         1.0          1\n",
        "58  6.6  2.9     4.6         1.3          1\n",
        "59  5.2  2.7     3.9         1.4          1\n",
        "    ...  ...     ...         ...        ...\n",
        "\n",
        "[150 rows x 5 columns]\n",
        "    0  0.1   5  13   9   1  0.2  0.3  0.4  0.5  13.1  15  10  15.1  5.1  0.6  \\\n",
        "0   0    0   0  12  13   5    0    0    0    0     0  11  16     9    0    0   \n",
        "1   0    0   0   4  15  12    0    0    0    0     3  16  15    14    0    0   \n",
        "2   0    0   7  15  13   1    0    0    0    8    13   6  15     4    0    0   \n",
        "3   0    0   0   1  11   0    0    0    0    0     0   7   8     0    0    0   \n",
        "4   0    0  12  10   0   0    0    0    0    0    14  16  16    14    0    0   \n",
        "5   0    0   0  12  13   0    0    0    0    0     5  16   8     0    0    0   \n",
        "6   0    0   7   8  13  16   15    1    0    0     7   7   4    11   12    0   \n",
        "7   0    0   9  14   8   1    0    0    0    0    12  14  14    12    0    0   \n",
        "8   0    0  11  12   0   0    0    0    0    2    16  16  16    13    0    0   \n",
        "9   0    0   1   9  15  11    0    0    0    0    11  16   8    14    6    0   \n",
        "10  0    0   0   0  14  13    1    0    0    0     0   5  16    16    2    0   \n",
        "11  0    0   5  12   1   0    0    0    0    0    15  14   7     0    0    0   \n",
        "12  0    2   9  15  14   9    3    0    0    4    13   8   9    16    8    0   \n",
        "13  0    0   0   8  15   1    0    0    0    0     1  14  13     1    1    0   \n",
        "14  0    5  12  13  16  16    2    0    0   11    16  15   8     4    0    0   \n",
        "15  0    0   0   8  15   1    0    0    0    0     0  12  14     0    0    0   \n",
        "16  0    0   1   8  15  10    0    0    0    3    13  15  14    14    0    0   \n",
        "17  0    0  10   7  13   9    0    0    0    0     9  10  12    15    2    0   \n",
        "18  0    0   6  14   4   0    0    0    0    0    11  16  10     0    0    0   \n",
        "19  0    0   3  13  11   7    0    0    0    0    11  16  16    16    2    0   \n",
        "20  0    0   0   2  16  16    2    0    0    0     0   4  16    16    2    0   \n",
        "21  0    0   8  16   5   0    0    0    0    1    13  11  16     0    0    0   \n",
        "22  0    1   8  12  15  14    4    0    0    3    11   8   8    12   12    0   \n",
        "23  0    0   0   0  12   2    0    0    0    0     0   6  14     1    0    0   \n",
        "24  0    0  12   8   8   7    0    0    0    3    16  16  11     7    0    0   \n",
        "25  0    0   1  13  14   3    0    0    0    0     8  16  13     2    0    0   \n",
        "26  0    0   0   8  14  14    2    0    0    0     0   6  10    15   11    0   \n",
        "27  0    0  10  11   4   0    0    0    0    0    10  15  13    13    1    0   \n",
        "28  0    0   9  13   7   0    0    0    0    0    12  16  16     2    0    0   \n",
        "29  0    0  10  14  11   3    0    0    0    4    16  13   6    14    1    0   \n",
        "30  0    0   2  13   8   0    0    0    0    0     6  16  16     6    0    0   \n",
        "31  0    2  13  16  16  16   11    0    0    5    16  10   5     4    1    0   \n",
        "32  0    6  13   5   8   8    1    0    0    8    16  16  16    16    6    0   \n",
        "33  0    0   0   5  14   2    0    0    0    0     1  13  11     0    0    0   \n",
        "34  0    3  15   8   8   6    0    0    0    4    16  16  16    13    2    0   \n",
        "35  0    0   6  14  10   2    0    0    0    0    15  15  13    15    3    0   \n",
        "36  0    0  13  10   1   0    0    0    0    5    16  14   7     0    0    0   \n",
        "37  0    0   7   7  13  16    4    0    0    0    13  13   6    12    7    0   \n",
        "38  0    1   9  16  13   7    0    0    0    7    14   4  10    12    0    0   \n",
        "39  0    0  11  10  12   4    0    0    0    0    12  13   9    16    1    0   \n",
        "40  0    0   0   9  15   1    0    0    0    0     4  16  12     0    0    0   \n",
        "41  0    0   0   0  12   5    0    0    0    0     0   2  16    12    0    0   \n",
        "42  0    0   0   9  15  12    0    0    0    0     4   7   7    14    0    0   \n",
        "43  0    0   9  16  16  16    5    0    0    1    14  10   8    16    8    0   \n",
        "44  0    0   9  16  13   6    0    0    0    0     6   5  16    16    0    0   \n",
        "45  0    1  15   4   0   0    0    0    0    2    16  16  16    14    2    0   \n",
        "46  0    0   0   1  11   9    0    0    0    0     0   7  16    13    0    0   \n",
        "47  0    0   2  15  13   3    0    0    0    0    10  15  11    15    0    0   \n",
        "48  0    0   1  15  13   1    0    0    0    0     7  16  14     8    0    0   \n",
        "49  0    0   0   5  14  12    2    0    0    0     7  15   8    14    4    0   \n",
        "50  0    0   0   3  15  10    1    0    0    0     0  11  10    16    4    0   \n",
        "51  0    0   3  12  16  16    6    0    0    0    10  11   7    16   11    0   \n",
        "52  0    0   4   8  16   5    0    0    0    0     9  16   8    11    0    0   \n",
        "53  0    0   0   1  14  14    3    0    0    0     0  10  11    13    8    0   \n",
        "54  0    0   2  14  15   5    0    0    0    0    10  16  16    15    1    0   \n",
        "55  0    0   0   0  12  13    1    0    0    0     0   8  16    15    2    0   \n",
        "56  0    0   0   1   9  11    0    0    0    0     0  13  16    16    0    0   \n",
        "57  0    0   0  10  13   1    0    0    0    1    11  12   7     0    0    0   \n",
        "58  0    1  10  15  11   1    0    0    0    3     8   8  11    12    0    0   \n",
        "59  0    0  10  15  14   4    0    0    0    0     4   6  13    16    2    0   \n",
        "   ..  ... ... ... ... ...  ...  ...  ...  ...   ... ... ...   ...  ...  ...   \n",
        "\n",
        "    0.7  3  15.2   2      \n",
        "0     0  0     3  15 ...  \n",
        "1     0  0     8  13 ...  \n",
        "2     0  2     1  13 ...  \n",
        "3     0  0     1  13 ...  \n",
        "4     0  0    13  16 ...  \n",
        "5     0  0    13  16 ...  \n",
        "6     0  0     0   0 ...  \n",
        "7     0  0     9  10 ...  \n",
        "8     0  3    16  12 ...  \n",
        "9     0  2    16  10 ...  \n",
        "10    0  0     0  14 ...  \n",
        "11    0  0    13   1 ...  \n",
        "12    0  0     0   6 ...  \n",
        "13    0  0    10  15 ...  \n",
        "14    0  8    14  11 ...  \n",
        "15    0  0     3  16 ...  \n",
        "16    0  5    10   0 ...  \n",
        "17    0  0     4  11 ...  \n",
        "18    0  0     8  14 ...  \n",
        "19    0  4    16   9 ...  \n",
        "20    0  1     4  12 ...  \n",
        "21    0  0    10   0 ...  \n",
        "22    0  0     0   0 ...  \n",
        "23    0  0     4  16 ...  \n",
        "24    0  2    14   1 ...  \n",
        "25    0  2    16  16 ...  \n",
        "26    0  0     0   0 ...  \n",
        "27    0  0     8  11 ...  \n",
        "28    0  0    12  13 ...  \n",
        "29    0  4    16   2 ...  \n",
        "30    0  0     5  15 ...  \n",
        "31    0  6    16   7 ...  \n",
        "32    0  6    16   9 ...  \n",
        "33    0  0     5  16 ...  \n",
        "34    0  3    16   9 ...  \n",
        "35    0  2    16  10 ...  \n",
        "36    0  4    16   8 ...  \n",
        "37    0  0    10   4 ...  \n",
        "38    0  6    15   9 ...  \n",
        "39    0  0     7  13 ...  \n",
        "40    0  0    15  14 ...  \n",
        "41    0  0     1  12 ...  \n",
        "42    0  0     0   0 ...  \n",
        "43    0  0     0   0 ...  \n",
        "44    0  0     0   8 ...  \n",
        "45    0  6    16  11 ...  \n",
        "46    0  0     4  14 ...  \n",
        "47    0  3    16   6 ...  \n",
        "48    0  8    12   9 ...  \n",
        "49    0  0     6   2 ...  \n",
        "50    0  0     0  12 ...  \n",
        "51    0  0     0   0 ...  \n",
        "52    0  0     5  10 ...  \n",
        "53    0  0     0   7 ...  \n",
        "54    0  3    16  10 ...  \n",
        "55    0  0    10  16 ...  \n",
        "56    0  0     0  12 ...  \n",
        "57    0  2    16  12 ...  \n",
        "58    0  0     0   5 ...  \n",
        "59    0  0     0   3 ...  \n",
        "    ... ..   ... ...      \n",
        "\n",
        "[1796 rows x 65 columns]\n"
       ]
      }
     ],
     "prompt_number": 112
    },
    {
     "cell_type": "code",
     "collapsed": false,
     "input": [
      "print digits.columns"
     ],
     "language": "python",
     "metadata": {},
     "outputs": [
      {
       "output_type": "stream",
       "stream": "stdout",
       "text": [
        "Index([u'0', u'0.1', u'5', u'13', u'9', u'1', u'0.2', u'0.3', u'0.4', u'0.5', u'13.1', u'15', u'10', u'15.1', u'5.1', u'0.6', u'0.7', u'3', u'15.2', u'2', u'0.8', u'11', u'8', u'0.9', u'0.10', u'4', u'12', u'0.11', u'0.12', u'8.1', u'8.2', u'0.13', u'0.14', u'5.2', u'8.3', u'0.15', u'0.16', u'9.1', u'8.4', u'0.17', u'0.18', u'4.1', u'11.1', u'0.19', u'1.1', u'12.1', u'7', u'0.20', u'0.21', u'2.1', u'14', u'5.3', u'10.1', u'12.2', u'0.22', u'0.23', u'0.24', u'0.25', u'6', u'13.2', u'10.2', u'0.26', u'0.27', u'0.28', u'0.29'], dtype='object')\n"
       ]
      }
     ],
     "prompt_number": 114
    },
    {
     "cell_type": "code",
     "collapsed": false,
     "input": [
      "print digits"
     ],
     "language": "python",
     "metadata": {},
     "outputs": [
      {
       "output_type": "stream",
       "stream": "stdout",
       "text": [
        "    0  0.1   5  13   9   1  0.2  0.3  0.4  0.5  13.1  15  10  15.1  5.1  0.6  \\\n",
        "0   0    0   0  12  13   5    0    0    0    0     0  11  16     9    0    0   \n",
        "1   0    0   0   4  15  12    0    0    0    0     3  16  15    14    0    0   \n",
        "2   0    0   7  15  13   1    0    0    0    8    13   6  15     4    0    0   \n",
        "3   0    0   0   1  11   0    0    0    0    0     0   7   8     0    0    0   \n",
        "4   0    0  12  10   0   0    0    0    0    0    14  16  16    14    0    0   \n",
        "5   0    0   0  12  13   0    0    0    0    0     5  16   8     0    0    0   \n",
        "6   0    0   7   8  13  16   15    1    0    0     7   7   4    11   12    0   \n",
        "7   0    0   9  14   8   1    0    0    0    0    12  14  14    12    0    0   \n",
        "8   0    0  11  12   0   0    0    0    0    2    16  16  16    13    0    0   \n",
        "9   0    0   1   9  15  11    0    0    0    0    11  16   8    14    6    0   \n",
        "10  0    0   0   0  14  13    1    0    0    0     0   5  16    16    2    0   \n",
        "11  0    0   5  12   1   0    0    0    0    0    15  14   7     0    0    0   \n",
        "12  0    2   9  15  14   9    3    0    0    4    13   8   9    16    8    0   \n",
        "13  0    0   0   8  15   1    0    0    0    0     1  14  13     1    1    0   \n",
        "14  0    5  12  13  16  16    2    0    0   11    16  15   8     4    0    0   \n",
        "15  0    0   0   8  15   1    0    0    0    0     0  12  14     0    0    0   \n",
        "16  0    0   1   8  15  10    0    0    0    3    13  15  14    14    0    0   \n",
        "17  0    0  10   7  13   9    0    0    0    0     9  10  12    15    2    0   \n",
        "18  0    0   6  14   4   0    0    0    0    0    11  16  10     0    0    0   \n",
        "19  0    0   3  13  11   7    0    0    0    0    11  16  16    16    2    0   \n",
        "20  0    0   0   2  16  16    2    0    0    0     0   4  16    16    2    0   \n",
        "21  0    0   8  16   5   0    0    0    0    1    13  11  16     0    0    0   \n",
        "22  0    1   8  12  15  14    4    0    0    3    11   8   8    12   12    0   \n",
        "23  0    0   0   0  12   2    0    0    0    0     0   6  14     1    0    0   \n",
        "24  0    0  12   8   8   7    0    0    0    3    16  16  11     7    0    0   \n",
        "25  0    0   1  13  14   3    0    0    0    0     8  16  13     2    0    0   \n",
        "26  0    0   0   8  14  14    2    0    0    0     0   6  10    15   11    0   \n",
        "27  0    0  10  11   4   0    0    0    0    0    10  15  13    13    1    0   \n",
        "28  0    0   9  13   7   0    0    0    0    0    12  16  16     2    0    0   \n",
        "29  0    0  10  14  11   3    0    0    0    4    16  13   6    14    1    0   \n",
        "30  0    0   2  13   8   0    0    0    0    0     6  16  16     6    0    0   \n",
        "31  0    2  13  16  16  16   11    0    0    5    16  10   5     4    1    0   \n",
        "32  0    6  13   5   8   8    1    0    0    8    16  16  16    16    6    0   \n",
        "33  0    0   0   5  14   2    0    0    0    0     1  13  11     0    0    0   \n",
        "34  0    3  15   8   8   6    0    0    0    4    16  16  16    13    2    0   \n",
        "35  0    0   6  14  10   2    0    0    0    0    15  15  13    15    3    0   \n",
        "36  0    0  13  10   1   0    0    0    0    5    16  14   7     0    0    0   \n",
        "37  0    0   7   7  13  16    4    0    0    0    13  13   6    12    7    0   \n",
        "38  0    1   9  16  13   7    0    0    0    7    14   4  10    12    0    0   \n",
        "39  0    0  11  10  12   4    0    0    0    0    12  13   9    16    1    0   \n",
        "40  0    0   0   9  15   1    0    0    0    0     4  16  12     0    0    0   \n",
        "41  0    0   0   0  12   5    0    0    0    0     0   2  16    12    0    0   \n",
        "42  0    0   0   9  15  12    0    0    0    0     4   7   7    14    0    0   \n",
        "43  0    0   9  16  16  16    5    0    0    1    14  10   8    16    8    0   \n",
        "44  0    0   9  16  13   6    0    0    0    0     6   5  16    16    0    0   \n",
        "45  0    1  15   4   0   0    0    0    0    2    16  16  16    14    2    0   \n",
        "46  0    0   0   1  11   9    0    0    0    0     0   7  16    13    0    0   \n",
        "47  0    0   2  15  13   3    0    0    0    0    10  15  11    15    0    0   \n",
        "48  0    0   1  15  13   1    0    0    0    0     7  16  14     8    0    0   \n",
        "49  0    0   0   5  14  12    2    0    0    0     7  15   8    14    4    0   \n",
        "50  0    0   0   3  15  10    1    0    0    0     0  11  10    16    4    0   \n",
        "51  0    0   3  12  16  16    6    0    0    0    10  11   7    16   11    0   \n",
        "52  0    0   4   8  16   5    0    0    0    0     9  16   8    11    0    0   \n",
        "53  0    0   0   1  14  14    3    0    0    0     0  10  11    13    8    0   \n",
        "54  0    0   2  14  15   5    0    0    0    0    10  16  16    15    1    0   \n",
        "55  0    0   0   0  12  13    1    0    0    0     0   8  16    15    2    0   \n",
        "56  0    0   0   1   9  11    0    0    0    0     0  13  16    16    0    0   \n",
        "57  0    0   0  10  13   1    0    0    0    1    11  12   7     0    0    0   \n",
        "58  0    1  10  15  11   1    0    0    0    3     8   8  11    12    0    0   \n",
        "59  0    0  10  15  14   4    0    0    0    0     4   6  13    16    2    0   \n",
        "   ..  ... ... ... ... ...  ...  ...  ...  ...   ... ... ...   ...  ...  ...   \n",
        "\n",
        "    0.7  3  15.2   2      \n",
        "0     0  0     3  15 ...  \n",
        "1     0  0     8  13 ...  \n",
        "2     0  2     1  13 ...  \n",
        "3     0  0     1  13 ...  \n",
        "4     0  0    13  16 ...  \n",
        "5     0  0    13  16 ...  \n",
        "6     0  0     0   0 ...  \n",
        "7     0  0     9  10 ...  \n",
        "8     0  3    16  12 ...  \n",
        "9     0  2    16  10 ...  \n",
        "10    0  0     0  14 ...  \n",
        "11    0  0    13   1 ...  \n",
        "12    0  0     0   6 ...  \n",
        "13    0  0    10  15 ...  \n",
        "14    0  8    14  11 ...  \n",
        "15    0  0     3  16 ...  \n",
        "16    0  5    10   0 ...  \n",
        "17    0  0     4  11 ...  \n",
        "18    0  0     8  14 ...  \n",
        "19    0  4    16   9 ...  \n",
        "20    0  1     4  12 ...  \n",
        "21    0  0    10   0 ...  \n",
        "22    0  0     0   0 ...  \n",
        "23    0  0     4  16 ...  \n",
        "24    0  2    14   1 ...  \n",
        "25    0  2    16  16 ...  \n",
        "26    0  0     0   0 ...  \n",
        "27    0  0     8  11 ...  \n",
        "28    0  0    12  13 ...  \n",
        "29    0  4    16   2 ...  \n",
        "30    0  0     5  15 ...  \n",
        "31    0  6    16   7 ...  \n",
        "32    0  6    16   9 ...  \n",
        "33    0  0     5  16 ...  \n",
        "34    0  3    16   9 ...  \n",
        "35    0  2    16  10 ...  \n",
        "36    0  4    16   8 ...  \n",
        "37    0  0    10   4 ...  \n",
        "38    0  6    15   9 ...  \n",
        "39    0  0     7  13 ...  \n",
        "40    0  0    15  14 ...  \n",
        "41    0  0     1  12 ...  \n",
        "42    0  0     0   0 ...  \n",
        "43    0  0     0   0 ...  \n",
        "44    0  0     0   8 ...  \n",
        "45    0  6    16  11 ...  \n",
        "46    0  0     4  14 ...  \n",
        "47    0  3    16   6 ...  \n",
        "48    0  8    12   9 ...  \n",
        "49    0  0     6   2 ...  \n",
        "50    0  0     0  12 ...  \n",
        "51    0  0     0   0 ...  \n",
        "52    0  0     5  10 ...  \n",
        "53    0  0     0   7 ...  \n",
        "54    0  3    16  10 ...  \n",
        "55    0  0    10  16 ...  \n",
        "56    0  0     0  12 ...  \n",
        "57    0  2    16  12 ...  \n",
        "58    0  0     0   5 ...  \n",
        "59    0  0     0   3 ...  \n",
        "    ... ..   ... ...      \n",
        "\n",
        "[1796 rows x 65 columns]\n"
       ]
      }
     ],
     "prompt_number": 115
    },
    {
     "cell_type": "code",
     "collapsed": false,
     "input": [
      "pandas.DataFrame.apply(data2['Genes'], myfunc,axis=0)"
     ],
     "language": "python",
     "metadata": {},
     "outputs": [
      {
       "ename": "TypeError",
       "evalue": "unbound method apply() must be called with DataFrame instance as first argument (got Series instance instead)",
       "output_type": "pyerr",
       "traceback": [
        "\u001b[1;31m---------------------------------------------------------------------------\u001b[0m\n\u001b[1;31mTypeError\u001b[0m                                 Traceback (most recent call last)",
        "\u001b[1;32m<ipython-input-65-c78c7d83ed18>\u001b[0m in \u001b[0;36m<module>\u001b[1;34m()\u001b[0m\n\u001b[1;32m----> 1\u001b[1;33m \u001b[0mpandas\u001b[0m\u001b[1;33m.\u001b[0m\u001b[0mDataFrame\u001b[0m\u001b[1;33m.\u001b[0m\u001b[0mapply\u001b[0m\u001b[1;33m(\u001b[0m\u001b[0mdata2\u001b[0m\u001b[1;33m[\u001b[0m\u001b[1;34m'Genes'\u001b[0m\u001b[1;33m]\u001b[0m\u001b[1;33m,\u001b[0m \u001b[0mmyfunc\u001b[0m\u001b[1;33m,\u001b[0m\u001b[0maxis\u001b[0m\u001b[1;33m=\u001b[0m\u001b[1;36m0\u001b[0m\u001b[1;33m)\u001b[0m\u001b[1;33m\u001b[0m\u001b[0m\n\u001b[0m",
        "\u001b[1;31mTypeError\u001b[0m: unbound method apply() must be called with DataFrame instance as first argument (got Series instance instead)"
       ]
      }
     ],
     "prompt_number": 65
    },
    {
     "cell_type": "code",
     "collapsed": false,
     "input": [
      "from Bio import Entrez, SeqIO"
     ],
     "language": "python",
     "metadata": {},
     "outputs": [],
     "prompt_number": 1
    },
    {
     "cell_type": "code",
     "collapsed": false,
     "input": [
      "print len(data), data.columns"
     ],
     "language": "python",
     "metadata": {},
     "outputs": [
      {
       "output_type": "stream",
       "stream": "stdout",
       "text": [
        " 2740 Index([u'#Organism/Name', u'BioProject', u'Group', u'SubGroup', u'Size (Mb)', u'GC%', u'Chromosomes/RefSeq', u'Chromosomes/INSDC', u'Plasmids/RefSeq', u'Plasmids/INSDC', u'WGS', u'Scaffolds', u'Genes', u'Proteins', u'Release Date', u'Modify Date', u'Status'], dtype='object')\n"
       ]
      }
     ],
     "prompt_number": 120
    },
    {
     "cell_type": "code",
     "collapsed": false,
     "input": [
      "# Nostoc sp. PCC 7120 -  NC_003272.1\n",
      "name_series = data['#Organism/Name']"
     ],
     "language": "python",
     "metadata": {},
     "outputs": [],
     "prompt_number": 128
    },
    {
     "cell_type": "code",
     "collapsed": false,
     "input": [
      "# is_nostoc = pandas.Series.isin(name_series,'Nostoc')\n",
      "is_nostoc = name_series.isin(['Nostoc', 'Nostoc sp. PCC 7120'])\n",
      "print sum(is_nostoc), len(is_nostoc)"
     ],
     "language": "python",
     "metadata": {},
     "outputs": [
      {
       "output_type": "stream",
       "stream": "stdout",
       "text": [
        "1 2740\n"
       ]
      }
     ],
     "prompt_number": 138
    },
    {
     "cell_type": "code",
     "collapsed": false,
     "input": [
      "data['#Organism/Name'][is_nostoc]"
     ],
     "language": "python",
     "metadata": {},
     "outputs": [
      {
       "metadata": {},
       "output_type": "pyout",
       "prompt_number": 139,
       "text": [
        "2473    Nostoc sp. PCC 7120\n",
        "Name: #Organism/Name, dtype: object"
       ]
      }
     ],
     "prompt_number": 139
    },
    {
     "cell_type": "code",
     "collapsed": false,
     "input": [
      "data[is_nostoc]"
     ],
     "language": "python",
     "metadata": {},
     "outputs": [
      {
       "html": [
        "<div style=\"max-height:1000px;max-width:1500px;overflow:auto;\">\n",
        "<table border=\"1\" class=\"dataframe\">\n",
        "  <thead>\n",
        "    <tr style=\"text-align: right;\">\n",
        "      <th></th>\n",
        "      <th>#Organism/Name</th>\n",
        "      <th>BioProject</th>\n",
        "      <th>Group</th>\n",
        "      <th>SubGroup</th>\n",
        "      <th>Size (Mb)</th>\n",
        "      <th>GC%</th>\n",
        "      <th>Chromosomes/RefSeq</th>\n",
        "      <th>Chromosomes/INSDC</th>\n",
        "      <th>Plasmids/RefSeq</th>\n",
        "      <th>Plasmids/INSDC</th>\n",
        "      <th>WGS</th>\n",
        "      <th>Scaffolds</th>\n",
        "      <th>Genes</th>\n",
        "      <th>Proteins</th>\n",
        "      <th>Release Date</th>\n",
        "      <th>Modify Date</th>\n",
        "      <th>Status</th>\n",
        "    </tr>\n",
        "  </thead>\n",
        "  <tbody>\n",
        "    <tr>\n",
        "      <th>2473</th>\n",
        "      <td> Nostoc sp. PCC 7120</td>\n",
        "      <td> PRJNA57803</td>\n",
        "      <td> Cyanobacteria</td>\n",
        "      <td> Nostocales</td>\n",
        "      <td> 7.21179</td>\n",
        "      <td> 41.2243</td>\n",
        "      <td> NC_003272.1</td>\n",
        "      <td> BA000019.2</td>\n",
        "      <td> NC_003241.1,NC_003273.1,NC_003267.1,NC_003270....</td>\n",
        "      <td> AP003606.1,AP003604.1,AP003603.1,AP003605.1,AP...</td>\n",
        "      <td> NaN</td>\n",
        "      <td> 7</td>\n",
        "      <td> 6213</td>\n",
        "      <td> 6129</td>\n",
        "      <td> 2001/11/28</td>\n",
        "      <td> 2013/05/23</td>\n",
        "      <td> Complete</td>\n",
        "    </tr>\n",
        "  </tbody>\n",
        "</table>\n",
        "<p>1 rows \u00d7 17 columns</p>\n",
        "</div>"
       ],
       "metadata": {},
       "output_type": "pyout",
       "prompt_number": 140,
       "text": [
        "           #Organism/Name  BioProject          Group    SubGroup  Size (Mb)  \\\n",
        "2473  Nostoc sp. PCC 7120  PRJNA57803  Cyanobacteria  Nostocales    7.21179   \n",
        "\n",
        "          GC% Chromosomes/RefSeq Chromosomes/INSDC  \\\n",
        "2473  41.2243        NC_003272.1        BA000019.2   \n",
        "\n",
        "                                        Plasmids/RefSeq  \\\n",
        "2473  NC_003241.1,NC_003273.1,NC_003267.1,NC_003270....   \n",
        "\n",
        "                                         Plasmids/INSDC  WGS  Scaffolds  \\\n",
        "2473  AP003606.1,AP003604.1,AP003603.1,AP003605.1,AP...  NaN          7   \n",
        "\n",
        "      Genes  Proteins Release Date Modify Date    Status  \n",
        "2473   6213      6129   2001/11/28  2013/05/23  Complete  \n",
        "\n",
        "[1 rows x 17 columns]"
       ]
      }
     ],
     "prompt_number": 140
    },
    {
     "cell_type": "code",
     "collapsed": false,
     "input": [
      "data.get_value(2,'Genes')"
     ],
     "language": "python",
     "metadata": {},
     "outputs": [
      {
       "metadata": {},
       "output_type": "pyout",
       "prompt_number": 147,
       "text": [
        "1940.0"
       ]
      }
     ],
     "prompt_number": 147
    },
    {
     "cell_type": "code",
     "collapsed": false,
     "input": [
      "refseq = data['Chromosomes/RefSeq'][2473]\n",
      "refseq"
     ],
     "language": "python",
     "metadata": {},
     "outputs": [
      {
       "metadata": {},
       "output_type": "pyout",
       "prompt_number": 158,
       "text": [
        "'NC_003272.1'"
       ]
      }
     ],
     "prompt_number": 158
    },
    {
     "cell_type": "code",
     "collapsed": false,
     "input": [
      "filename = \"fasta/%s.fasta\" % (refseq,)\n",
      "index=2473\n",
      "# if os.path.exists(filename)\n",
      "print \"%i/%i\" % (index, len(data)) , refseq, data['#Organism/Name'][index]"
     ],
     "language": "python",
     "metadata": {},
     "outputs": [
      {
       "output_type": "stream",
       "stream": "stdout",
       "text": [
        " 2473/2740 NC_003272.1 Nostoc sp. PCC 7120\n"
       ]
      }
     ],
     "prompt_number": 154
    },
    {
     "cell_type": "code",
     "collapsed": false,
     "input": [
      "Entrez.email = 'wsutton17@gmail.com'"
     ],
     "language": "python",
     "metadata": {},
     "outputs": [],
     "prompt_number": 3
    },
    {
     "cell_type": "code",
     "collapsed": false,
     "input": [
      "refseq = 'NC_018618.1' #.35Mb\n",
      "handle = Entrez.efetch(db=\"nucleotide\", id=refseq, rettype=\"fasta\", retmode=\"text\")"
     ],
     "language": "python",
     "metadata": {},
     "outputs": [],
     "prompt_number": 4
    },
    {
     "cell_type": "code",
     "collapsed": false,
     "input": [
      "seq = SeqIO.read(handle, 'fasta')"
     ],
     "language": "python",
     "metadata": {},
     "outputs": [],
     "prompt_number": 6
    },
    {
     "cell_type": "code",
     "collapsed": false,
     "input": [
      "seq"
     ],
     "language": "python",
     "metadata": {},
     "outputs": [
      {
       "metadata": {},
       "output_type": "pyout",
       "prompt_number": 7,
       "text": [
        "SeqRecord(seq=Seq('ATGATAAGAATTATAGGTATTGATTTAGGTACTACTAACTCGTGTGTTGCAGTT...AAT', SingleLetterAlphabet()), id='gi|407453019|ref|NC_018618.1|', name='gi|407453019|ref|NC_018618.1|', description='gi|407453019|ref|NC_018618.1| Candidatus Portiera aleyrodidarum BT-QVLC chromosome, complete genome', dbxrefs=[])"
       ]
      }
     ],
     "prompt_number": 7
    },
    {
     "cell_type": "code",
     "collapsed": false,
     "input": [
      "import sys\n",
      "print sys.path"
     ],
     "language": "python",
     "metadata": {},
     "outputs": [
      {
       "output_type": "stream",
       "stream": "stdout",
       "text": [
        "['', 'C:\\\\Python27\\\\lib\\\\site-packages\\\\distribute-0.6.49-py2.7.egg', 'C:\\\\Python27', 'C:\\\\windows\\\\SYSTEM32\\\\python27.zip', 'C:\\\\Python27\\\\DLLs', 'C:\\\\Python27\\\\lib', 'C:\\\\Python27\\\\lib\\\\plat-win', 'C:\\\\Python27\\\\lib\\\\lib-tk', 'C:\\\\Python27\\\\lib\\\\site-packages', 'C:\\\\Python27\\\\lib\\\\site-packages\\\\setuptools-0.6c11-py2.7.egg-info', 'C:\\\\Python27\\\\lib\\\\site-packages\\\\IPython\\\\extensions']\n"
       ]
      }
     ],
     "prompt_number": 8
    },
    {
     "cell_type": "code",
     "collapsed": false,
     "input": [
      "filename = 'fasta/littleguy.fasta'\n",
      "output_handle = open(filename, \"w\")\n",
      "SeqIO.write(seq, output_handle, \"fasta\")\n",
      "output_handle.close()"
     ],
     "language": "python",
     "metadata": {},
     "outputs": [],
     "prompt_number": 10
    },
    {
     "cell_type": "code",
     "collapsed": false,
     "input": [
      "output_handle.name"
     ],
     "language": "python",
     "metadata": {},
     "outputs": [
      {
       "metadata": {},
       "output_type": "pyout",
       "prompt_number": 12,
       "text": [
        "'fasta/littleguy.fasta'"
       ]
      }
     ],
     "prompt_number": 12
    },
    {
     "cell_type": "code",
     "collapsed": false,
     "input": [
      "filename.capitalize()"
     ],
     "language": "python",
     "metadata": {},
     "outputs": [
      {
       "metadata": {},
       "output_type": "pyout",
       "prompt_number": 14,
       "text": [
        "'Fasta/littleguy.fasta'"
       ]
      }
     ],
     "prompt_number": 14
    },
    {
     "cell_type": "code",
     "collapsed": false,
     "input": [],
     "language": "python",
     "metadata": {},
     "outputs": []
    },
    {
     "cell_type": "code",
     "collapsed": false,
     "input": [
      "for index, row in data.iterrows():  \n",
      "    for refseq in row['Chromosomes/RefSeq'].split(','):\n",
      "        \n",
      "        filename = \"fasta/%s.fasta\" % (refseq,)\n",
      "        if os.path.exists(filename):\n",
      "            continue\n",
      "        print \"%i/%i\" % (index, len(data)) , refseq, row['#Organism/Name']\n",
      "        handle = Entrez.efetch(db=\"nucleotide\", id=refseq, rettype=\"fasta\", retmode=\"text\")\n",
      "        seq = SeqIO.read(handle, 'fasta')\n",
      "        output_handle = open(filename, \"w\")\n",
      "        SeqIO.write(seq, output_handle, \"fasta\")\n",
      "        output_handle.close()"
     ],
     "language": "python",
     "metadata": {},
     "outputs": []
    },
    {
     "cell_type": "code",
     "collapsed": false,
     "input": [],
     "language": "python",
     "metadata": {},
     "outputs": []
    }
   ],
   "metadata": {}
  }
 ]
}